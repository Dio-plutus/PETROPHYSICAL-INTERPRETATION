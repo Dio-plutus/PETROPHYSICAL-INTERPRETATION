{
 "cells": [
  {
   "cell_type": "code",
   "execution_count": 1,
   "metadata": {},
   "outputs": [
    {
     "name": "stderr",
     "output_type": "stream",
     "text": [
      "C:\\Users\\hp\\Anaconda3\\lib\\site-packages\\sklearn\\ensemble\\weight_boosting.py:29: DeprecationWarning: numpy.core.umath_tests is an internal NumPy module and should not be imported. It will be removed in a future NumPy release.\n",
      "  from numpy.core.umath_tests import inner1d\n"
     ]
    }
   ],
   "source": [
    "import pandas as pd\n",
    "import numpy as np\n",
    "import matplotlib.pyplot as plt\n",
    "import seaborn as sns\n",
    "import lasio\n",
    "import matplotlib.pyplot as plt\n",
    "import seaborn as sns\n",
    "from sklearn.ensemble import RandomForestRegressor\n",
    "import sklearn.model_selection as ms\n",
    "from sklearn.model_selection import GridSearchCV, cross_val_score, StratifiedKFold, train_test_split\n",
    "from sklearn.linear_model import LinearRegression\n",
    "from sklearn.metrics import mean_squared_error\n",
    "import xgboost as xgb\n",
    "import lightgbm as lgb"
   ]
  },
  {
   "cell_type": "code",
   "execution_count": 2,
   "metadata": {},
   "outputs": [
    {
     "name": "stderr",
     "output_type": "stream",
     "text": [
      "Header section Parameter regexp=~P was not found.\n"
     ]
    }
   ],
   "source": [
    "las = lasio.read('WLC_PETRO_COMPUTED_INPUT_1.LAS')"
   ]
  },
  {
   "cell_type": "code",
   "execution_count": 4,
   "metadata": {},
   "outputs": [],
   "source": [
    "df = las.df()\n",
    "df[\"DEPTH\"] = df.index"
   ]
  },
  {
   "cell_type": "code",
   "execution_count": 5,
   "metadata": {},
   "outputs": [],
   "source": [
    "df = df.reset_index(drop=True)"
   ]
  },
  {
   "cell_type": "code",
   "execution_count": 7,
   "metadata": {},
   "outputs": [],
   "source": [
    "def log_plot(logs):\n",
    "    logs = logs.sort_values(by='DEPTH')\n",
    "    top = logs.DEPTH.min()\n",
    "    bot = logs.DEPTH.max()\n",
    "    \n",
    "    f, ax = plt.subplots(nrows=1, ncols=5, figsize=(12,8))\n",
    "    ax[0].plot(logs.DENS, logs.DEPTH, color='red')\n",
    "    ax[1].plot(logs.GR, logs.DEPTH, color='black')\n",
    "    ax[2].plot(logs.NPHI, logs.DEPTH, color='blue')\n",
    "    ax[3].plot(logs.RES, logs.DEPTH, color='c')\n",
    "    ax[4].plot(logs.SONIC, logs.DEPTH, color='m')\n",
    "    \n",
    "    for i in range(len(ax)):\n",
    "        ax[i].set_ylim(top,bot)\n",
    "        ax[i].invert_yaxis()\n",
    "        ax[i].grid()\n",
    "        \n",
    "    ax[0].set_xlabel(\"DENS\")\n",
    "    ax[0].set_xlim(logs.DENS.min(),logs.DENS.max())\n",
    "    ax[0].set_ylabel(\"Depth(ft)\")\n",
    "    ax[1].set_xlabel(\"gr\")\n",
    "    ax[1].set_xlim(0, 150)\n",
    "    ax[2].set_xlabel(\"nphi\")\n",
    "    ax[2].set_xlim(logs.NPHI.min(),logs.NPHI.max())\n",
    "    ax[3].set_xlabel(\"res\")\n",
    "    ax[3].set_xlim(logs.RES.min(),logs.RES.max())\n",
    "    ax[4].set_xlabel(\"sonic\")\n",
    "    ax[4].set_xlim(logs.SONIC.min(),logs.SONIC.max())\n",
    "    \n",
    "    ax[1].set_yticklabels([]); ax[2].set_yticklabels([]);\n",
    "    ax[3].set_yticklabels([])\n",
    "    ax[4].set_yticklabels([]); ax[4].set_yticklabels([]) \n",
    "    \n",
    "    f.suptitle('Well:BOGI WELL 3', fontsize=14,y=0.94)"
   ]
  },
  {
   "cell_type": "code",
   "execution_count": 8,
   "metadata": {},
   "outputs": [],
   "source": [
    "df1 = df.drop(['CARB_FLAG', 'COAL_FLAG', 'SAND_FLAG'], axis=1)\n",
    "df1 = df1.drop(['RS', 'RD', 'ROP5_RM'], axis=1)"
   ]
  },
  {
   "cell_type": "code",
   "execution_count": 10,
   "metadata": {},
   "outputs": [],
   "source": [
    "df1['RT'] = np.log(df1['RT'])"
   ]
  },
  {
   "cell_type": "code",
   "execution_count": null,
   "metadata": {},
   "outputs": [],
   "source": []
  }
 ],
 "metadata": {
  "kernelspec": {
   "display_name": "Python 3",
   "language": "python",
   "name": "python3"
  },
  "language_info": {
   "codemirror_mode": {
    "name": "ipython",
    "version": 3
   },
   "file_extension": ".py",
   "mimetype": "text/x-python",
   "name": "python",
   "nbconvert_exporter": "python",
   "pygments_lexer": "ipython3",
   "version": "3.7.0"
  }
 },
 "nbformat": 4,
 "nbformat_minor": 2
}
